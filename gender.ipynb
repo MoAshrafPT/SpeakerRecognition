{
 "cells": [
  {
   "cell_type": "code",
   "execution_count": 16,
   "id": "1efbed99",
   "metadata": {},
   "outputs": [],
   "source": [
    "import pandas as pd\n",
    "from sklearn.preprocessing import StandardScaler\n",
    "from sklearn.model_selection import train_test_split\n",
    "from sklearn.neighbors import KNeighborsClassifier\n",
    "from sklearn.metrics import classification_report, confusion_matrix\n",
    "from imblearn.under_sampling import RandomUnderSampler\n",
    "\n",
    "# Load the dataset\n",
    "df = pd.read_csv(\"data/features.csv\")\n",
    "\n",
    "# Map original labels to gender\n",
    "# 0 -> M20, 1 -> F20, 2 -> M50, 3 -> F50\n",
    "# Gender: 0 = Male, 1 = Female\n",
    "df[\"gender\"] = df[\"label\"].map({0: 0, 1: 1, 2: 0, 3: 1})\n",
    "\n",
    "# Define selected features (93 total)\n",
    "features = []\n",
    "\n",
    "# Pitch\n",
    "features += ['pitch_mean', 'pitch_std']\n",
    "\n",
    "# MFCCs\n",
    "features += [f\"mfcc_mean_{i}\" for i in range(1, 14)]\n",
    "features += [f\"mfcc_std_{i}\" for i in range(1, 14)]\n",
    "\n",
    "# Chroma\n",
    "features += [f\"chroma_mean_{i}\" for i in range(1, 13)]\n",
    "features += [f\"chroma_std_{i}\" for i in range(1, 13)]\n",
    "\n",
    "# Spectral shape\n",
    "features += ['centroid_mean', 'centroid_std', 'bandwidth_mean', 'bandwidth_std']\n",
    "features += ['rolloff_mean', 'rolloff_std']\n",
    "\n",
    "# Energy / voicing\n",
    "features += ['rms_mean', 'rms_std', 'zcr_mean', 'zcr_std']\n",
    "\n",
    "# Mel (only first 13)\n",
    "features += [f\"mel_mean_{i}\" for i in range(1, 14)]\n",
    "features += [f\"mel_std_{i}\" for i in range(1, 14)]\n",
    "\n",
    "# Extract features and target\n",
    "X = df[features]\n",
    "y = df[\"gender\"]\n",
    "\n",
    "# Undersample to balance genders\n",
    "rus = RandomUnderSampler(random_state=42)\n",
    "X_balanced, y_balanced = rus.fit_resample(X, y)\n",
    "\n",
    "# Train-test split\n",
    "X_train, X_test, y_train, y_test = train_test_split(X_balanced, y_balanced, test_size=0.2, random_state=42)\n",
    "\n",
    "# Scale features\n",
    "scaler = StandardScaler()\n",
    "X_train_scaled = scaler.fit_transform(X_train)\n",
    "X_test_scaled = scaler.transform(X_test)\n",
    "\n",
    "\n"
   ]
  },
  {
   "cell_type": "code",
   "execution_count": 20,
   "id": "7938202e",
   "metadata": {},
   "outputs": [
    {
     "name": "stdout",
     "output_type": "stream",
     "text": [
      "[[6404  583]\n",
      " [ 273 6807]]\n",
      "              precision    recall  f1-score   support\n",
      "\n",
      "           0       0.96      0.92      0.94      6987\n",
      "           1       0.92      0.96      0.94      7080\n",
      "\n",
      "    accuracy                           0.94     14067\n",
      "   macro avg       0.94      0.94      0.94     14067\n",
      "weighted avg       0.94      0.94      0.94     14067\n",
      "\n"
     ]
    }
   ],
   "source": [
    "# Train KNN\n",
    "knn = KNeighborsClassifier(n_neighbors=5,metric='euclidean')\n",
    "knn.fit(X_train_scaled, y_train)\n",
    "\n",
    "# Evaluate\n",
    "y_pred = knn.predict(X_test_scaled)\n",
    "print(confusion_matrix(y_test, y_pred))\n",
    "print(classification_report(y_test, y_pred))"
   ]
  },
  {
   "cell_type": "code",
   "execution_count": 21,
   "id": "9e068717",
   "metadata": {},
   "outputs": [
    {
     "name": "stdout",
     "output_type": "stream",
     "text": [
      "Random Forest Accuracy: 94.48%\n"
     ]
    }
   ],
   "source": [
    "from sklearn.ensemble import RandomForestClassifier\n",
    "\n",
    "# Initialize and train the Random Forest Classifier\n",
    "rf = RandomForestClassifier(n_estimators=100, random_state=42)\n",
    "rf.fit(X_train_scaled, y_train)\n",
    "\n",
    "# Evaluate performance\n",
    "rf_score = rf.score(X_test_scaled, y_test)\n",
    "print(f\"Random Forest Accuracy: {rf_score * 100:.2f}%\")\n"
   ]
  },
  {
   "cell_type": "code",
   "execution_count": 22,
   "id": "30a87903",
   "metadata": {},
   "outputs": [
    {
     "name": "stdout",
     "output_type": "stream",
     "text": [
      "Logistic Regression Accuracy: 92.29%\n"
     ]
    }
   ],
   "source": [
    "from sklearn.linear_model import LogisticRegression\n",
    "\n",
    "# Initialize Logistic Regression with L2 regularization\n",
    "log_reg = LogisticRegression(penalty='l2', solver='liblinear', random_state=42)\n",
    "log_reg.fit(X_train_scaled, y_train)\n",
    "\n",
    "# Evaluate performance\n",
    "log_reg_score = log_reg.score(X_test_scaled, y_test)\n",
    "print(f\"Logistic Regression Accuracy: {log_reg_score * 100:.2f}%\")\n"
   ]
  },
  {
   "cell_type": "code",
   "execution_count": 23,
   "id": "3ce53772",
   "metadata": {},
   "outputs": [
    {
     "name": "stdout",
     "output_type": "stream",
     "text": [
      "SVM Accuracy: 95.98%\n"
     ]
    }
   ],
   "source": [
    "from sklearn.svm import SVC\n",
    "\n",
    "# Initialize and train the SVM classifier with RBF kernel\n",
    "svm = SVC(kernel='rbf', gamma='scale', random_state=42)\n",
    "svm.fit(X_train_scaled, y_train)\n",
    "\n",
    "# Evaluate performance\n",
    "svm_score = svm.score(X_test_scaled, y_test)\n",
    "print(f\"SVM Accuracy: {svm_score * 100:.2f}%\")\n"
   ]
  },
  {
   "cell_type": "code",
   "execution_count": null,
   "id": "859b9c5b",
   "metadata": {},
   "outputs": [],
   "source": [
    "from sklearn.model_selection import RandomizedSearchCV\n",
    "from scipy.stats import uniform, loguniform\n",
    "import matplotlib.pyplot as plt\n",
    "import seaborn as sns\n",
    "\n",
    "# Define the parameter grid for random search\n",
    "param_dist = {\n",
    "    'C': loguniform(1e-3, 1e3),        # Regularization parameter\n",
    "    'gamma': ['scale', 'auto'] + list(uniform(1e-4, 1e3).rvs(10)),  # Kernel coefficient\n",
    "    'kernel': ['linear', 'rbf', 'poly', 'sigmoid'],  # Type of kernel\n",
    "    'degree': [2, 3, 4],  # Degree for polynomial kernel\n",
    "}\n",
    "\n",
    "# Initialize RandomizedSearchCV\n",
    "random_search = RandomizedSearchCV(SVC(), param_distributions=param_dist, n_iter=50, cv=5, random_state=42, verbose=2, n_jobs=-1)\n",
    "\n",
    "# Fit the model with random search\n",
    "random_search.fit(X_train_scaled, y_train)\n",
    "\n",
    "# Best hyperparameters\n",
    "print(\"Best Hyperparameters found: \", random_search.best_params_)\n",
    "\n",
    "# Evaluate the best model\n",
    "best_svm = random_search.best_estimator_\n",
    "best_svm_score = best_svm.score(X_test_scaled, y_test)\n",
    "print(f\"Accuracy with best hyperparameters: {best_svm_score * 100:.2f}%\")\n",
    "\n",
    "# Confusion Matrix for the tuned model\n",
    "y_pred_best = best_svm.predict(X_test_scaled)\n",
    "cm_best = confusion_matrix(y_test, y_pred_best)\n",
    "\n",
    "# Plot Confusion Matrix\n",
    "plt.figure(figsize=(6, 5))\n",
    "sns.heatmap(cm_best, annot=True, fmt=\"d\", cmap=\"Blues\", xticklabels=[\"M\", \"F\"], yticklabels=[\"M\", \"F\"])\n",
    "plt.title(\"Tuned SVM Confusion Matrix\")\n",
    "plt.xlabel(\"Predicted\")\n",
    "plt.ylabel(\"Actual\")\n",
    "plt.show()\n",
    "\n",
    "# Print Classification Report\n",
    "print(\"Classification Report (Tuned Model):\")\n",
    "print(classification_report(y_test, y_pred_best))\n"
   ]
  },
  {
   "cell_type": "code",
   "execution_count": null,
   "id": "d27087bd",
   "metadata": {},
   "outputs": [],
   "source": [
    "from lightgbm import LGBMClassifier\n",
    "from sklearn.model_selection import RandomizedSearchCV\n",
    "from sklearn.metrics import classification_report, confusion_matrix\n",
    "from joblib import dump\n",
    "\n",
    "# GPU-enabled parameters\n",
    "params = {\n",
    "    'boosting_type': ['gbdt'],\n",
    "    'num_leaves': [31, 50, 70, 100],\n",
    "    'learning_rate': [0.01, 0.05, 0.1],\n",
    "    'n_estimators': [100, 300, 500],\n",
    "    'max_depth': [5, 10, 15, -1],\n",
    "    'subsample': [0.6, 0.8, 1.0],\n",
    "    'colsample_bytree': [0.6, 0.8, 1.0],\n",
    "    'reg_alpha': [0, 0.1, 0.5],\n",
    "    'reg_lambda': [0, 0.1, 0.5]\n",
    "}\n",
    "\n",
    "# Enable GPU\n",
    "lgbm = LGBMClassifier(device='gpu', verbosity=-1)\n",
    "\n",
    "random_search = RandomizedSearchCV(\n",
    "    estimator=lgbm,\n",
    "    param_distributions=params,\n",
    "    n_iter=50,\n",
    "    cv=5,\n",
    "    scoring='f1',\n",
    "    n_jobs=-1,\n",
    "    verbose=1,\n",
    "    random_state=42\n",
    ")\n",
    "\n",
    "random_search.fit(X_train, y_train)\n",
    "\n",
    "# Save best model\n",
    "dump(random_search.best_estimator_, 'best_lightgbm_gpu_model.joblib')\n",
    "\n",
    "# Evaluation\n",
    "y_pred = random_search.predict(X_test)\n",
    "print(\"Classification Report:\\n\", classification_report(y_test, y_pred))\n",
    "print(\"Confusion Matrix:\\n\", confusion_matrix(y_test, y_pred))\n"
   ]
  }
 ],
 "metadata": {
  "kernelspec": {
   "display_name": "base",
   "language": "python",
   "name": "python3"
  },
  "language_info": {
   "codemirror_mode": {
    "name": "ipython",
    "version": 3
   },
   "file_extension": ".py",
   "mimetype": "text/x-python",
   "name": "python",
   "nbconvert_exporter": "python",
   "pygments_lexer": "ipython3",
   "version": "3.12.7"
  }
 },
 "nbformat": 4,
 "nbformat_minor": 5
}
